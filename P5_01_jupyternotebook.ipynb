{
 "cells": [
  {
   "cell_type": "code",
   "execution_count": 1,
   "metadata": {},
   "outputs": [],
   "source": [
    "import pandas as pd"
   ]
  },
  {
   "cell_type": "markdown",
   "metadata": {},
   "source": [
    "<h1><center> Using Kaggle API to get the Data </center></h1>"
   ]
  },
  {
   "cell_type": "code",
   "execution_count": 4,
   "metadata": {},
   "outputs": [],
   "source": [
    "import kaggle\n",
    "from kaggle.api.kaggle_api_extended import KaggleApi\n",
    "api = KaggleApi()\n",
    "api.authenticate()\n",
    "# api.model_list_cli()"
   ]
  },
  {
   "cell_type": "code",
   "execution_count": null,
   "metadata": {},
   "outputs": [
    {
     "name": "stdout",
     "output_type": "stream",
     "text": [
      "Kaggle API 1.6.14\n"
     ]
    }
   ],
   "source": [
    "# kaggle version\n",
    "!kaggle --version\n",
    "\n",
    "# list available datasets and search\n",
    "!kaggle datasets list -s olistbr/brazilian-ecommerce"
   ]
  },
  {
   "cell_type": "code",
   "execution_count": 6,
   "metadata": {},
   "outputs": [
    {
     "name": "stdout",
     "output_type": "stream",
     "text": [
      "Dataset URL: https://www.kaggle.com/datasets/olistbr/brazilian-ecommerce\n",
      "License(s): CC-BY-NC-SA-4.0\n",
      "Downloading brazilian-ecommerce.zip to c:\\Users\\spectre\\Documents\\OpenClassrooms_AI\\P5_Philip_O\\Segment-Customer-Base\n",
      "\n"
     ]
    },
    {
     "name": "stderr",
     "output_type": "stream",
     "text": [
      "\n",
      "  0%|          | 0.00/42.6M [00:00<?, ?B/s]\n",
      "  5%|▍         | 2.00M/42.6M [00:00<00:02, 16.1MB/s]\n",
      " 14%|█▍        | 6.00M/42.6M [00:00<00:01, 27.3MB/s]\n",
      " 26%|██▌       | 11.0M/42.6M [00:00<00:00, 37.3MB/s]\n",
      " 38%|███▊      | 16.0M/42.6M [00:00<00:00, 38.6MB/s]\n",
      " 49%|████▉     | 21.0M/42.6M [00:00<00:00, 42.4MB/s]\n",
      " 61%|██████    | 26.0M/42.6M [00:00<00:00, 41.3MB/s]\n",
      " 75%|███████▌  | 32.0M/42.6M [00:00<00:00, 43.8MB/s]\n",
      " 87%|████████▋ | 37.0M/42.6M [00:01<00:00, 33.3MB/s]\n",
      "100%|██████████| 42.6M/42.6M [00:01<00:00, 38.3MB/s]\n",
      "100%|██████████| 42.6M/42.6M [00:01<00:00, 37.4MB/s]\n"
     ]
    }
   ],
   "source": [
    "# Donload the zipped file\n",
    "!kaggle datasets download olistbr/brazilian-ecommerce"
   ]
  },
  {
   "cell_type": "code",
   "execution_count": 2,
   "metadata": {},
   "outputs": [
    {
     "name": "stdout",
     "output_type": "stream",
     "text": [
      "Before extracting: ['.git', 'P5_01_jupyternotebook.ipynb', 'README.md']\n"
     ]
    },
    {
     "ename": "FileNotFoundError",
     "evalue": "[Errno 2] No such file or directory: 'brazilian-ecommerce.zip'",
     "output_type": "error",
     "traceback": [
      "\u001b[1;31m---------------------------------------------------------------------------\u001b[0m",
      "\u001b[1;31mFileNotFoundError\u001b[0m                         Traceback (most recent call last)",
      "Input \u001b[1;32mIn [2]\u001b[0m, in \u001b[0;36m<module>\u001b[1;34m\u001b[0m\n\u001b[0;32m      4\u001b[0m \u001b[38;5;28mprint\u001b[39m(\u001b[38;5;124mf\u001b[39m\u001b[38;5;124m\"\u001b[39m\u001b[38;5;124mBefore extracting: \u001b[39m\u001b[38;5;132;01m{\u001b[39;00mos\u001b[38;5;241m.\u001b[39mlistdir()\u001b[38;5;132;01m}\u001b[39;00m\u001b[38;5;124m\"\u001b[39m)\n\u001b[0;32m      5\u001b[0m file \u001b[38;5;241m=\u001b[39m \u001b[38;5;124m'\u001b[39m\u001b[38;5;124mbrazilian-ecommerce.zip\u001b[39m\u001b[38;5;124m'\u001b[39m\n\u001b[1;32m----> 6\u001b[0m \u001b[38;5;28;01mwith\u001b[39;00m \u001b[43mZipFile\u001b[49m\u001b[43m(\u001b[49m\u001b[43mfile\u001b[49m\u001b[43m,\u001b[49m\u001b[43m \u001b[49m\u001b[38;5;124;43m'\u001b[39;49m\u001b[38;5;124;43mr\u001b[39;49m\u001b[38;5;124;43m'\u001b[39;49m\u001b[43m)\u001b[49m \u001b[38;5;28;01mas\u001b[39;00m \u001b[38;5;28mzip\u001b[39m:\n\u001b[0;32m      7\u001b[0m    \u001b[38;5;28mzip\u001b[39m\u001b[38;5;241m.\u001b[39mextractall()\n\u001b[0;32m      8\u001b[0m \u001b[38;5;28mprint\u001b[39m(\u001b[38;5;124m\"\u001b[39m\u001b[38;5;124mFile successfully extracted\u001b[39m\u001b[38;5;124m\"\u001b[39m)\n",
      "File \u001b[1;32mc:\\Users\\spectre\\AppData\\Local\\R-MINI~1\\envs\\OpenClass\\lib\\zipfile.py:1251\u001b[0m, in \u001b[0;36mZipFile.__init__\u001b[1;34m(self, file, mode, compression, allowZip64, compresslevel, strict_timestamps)\u001b[0m\n\u001b[0;32m   1249\u001b[0m \u001b[38;5;28;01mwhile\u001b[39;00m \u001b[38;5;28;01mTrue\u001b[39;00m:\n\u001b[0;32m   1250\u001b[0m     \u001b[38;5;28;01mtry\u001b[39;00m:\n\u001b[1;32m-> 1251\u001b[0m         \u001b[38;5;28mself\u001b[39m\u001b[38;5;241m.\u001b[39mfp \u001b[38;5;241m=\u001b[39m \u001b[43mio\u001b[49m\u001b[38;5;241;43m.\u001b[39;49m\u001b[43mopen\u001b[49m\u001b[43m(\u001b[49m\u001b[43mfile\u001b[49m\u001b[43m,\u001b[49m\u001b[43m \u001b[49m\u001b[43mfilemode\u001b[49m\u001b[43m)\u001b[49m\n\u001b[0;32m   1252\u001b[0m     \u001b[38;5;28;01mexcept\u001b[39;00m \u001b[38;5;167;01mOSError\u001b[39;00m:\n\u001b[0;32m   1253\u001b[0m         \u001b[38;5;28;01mif\u001b[39;00m filemode \u001b[38;5;129;01min\u001b[39;00m modeDict:\n",
      "\u001b[1;31mFileNotFoundError\u001b[0m: [Errno 2] No such file or directory: 'brazilian-ecommerce.zip'"
     ]
    }
   ],
   "source": [
    "# Extract the downloaded files\n",
    "from zipfile import ZipFile\n",
    "import os \n",
    "print(f\"Before extracting: {os.listdir()}\")\n",
    "file = 'brazilian-ecommerce.zip'\n",
    "with ZipFile(file, 'r') as zip:\n",
    "   zip.extractall()\n",
    "print(\"File successfully extracted\")\n",
    "print(f\"After extracting: {os.listdir()}\")"
   ]
  },
  {
   "cell_type": "code",
   "execution_count": 4,
   "metadata": {},
   "outputs": [],
   "source": [
    "import glob\n",
    "\n",
    "# Get Path for all files ending with .csv\n",
    "path = glob.glob('C://Users/spectre/Documents/OpenClassrooms_AI/P5_Philip_O/Segment-Customer-Base/*.csv')"
   ]
  },
  {
   "cell_type": "code",
   "execution_count": 5,
   "metadata": {},
   "outputs": [],
   "source": [
    "# Read the files\n",
    "from pathlib import Path\n",
    "\n",
    "for p in Path('.').glob('*.csv'):\n",
    "    with p.open() as f:\n",
    "        print(f\"{p.name}:\\n{f.read()}\\n\")"
   ]
  },
  {
   "cell_type": "code",
   "execution_count": 6,
   "metadata": {},
   "outputs": [],
   "source": [
    "# file_path = Path('..//olist_geolocation_data.csv')\n",
    "# olist_geolocation_data = pd.read_csv(file_path)"
   ]
  },
  {
   "cell_type": "code",
   "execution_count": null,
   "metadata": {},
   "outputs": [],
   "source": []
  }
 ],
 "metadata": {
  "kernelspec": {
   "display_name": "OpenClass",
   "language": "python",
   "name": "python3"
  },
  "language_info": {
   "codemirror_mode": {
    "name": "ipython",
    "version": 3
   },
   "file_extension": ".py",
   "mimetype": "text/x-python",
   "name": "python",
   "nbconvert_exporter": "python",
   "pygments_lexer": "ipython3",
   "version": "3.10.13"
  }
 },
 "nbformat": 4,
 "nbformat_minor": 2
}
