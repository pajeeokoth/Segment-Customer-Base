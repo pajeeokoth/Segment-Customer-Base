{
 "cells": [
  {
   "cell_type": "code",
   "execution_count": null,
   "metadata": {},
   "outputs": [],
   "source": [
    "import pandas as pd"
   ]
  },
  {
   "cell_type": "markdown",
   "metadata": {},
   "source": [
    "<h1><center> Using Kaggle API to get the Data </center></h1>"
   ]
  },
  {
   "cell_type": "code",
   "execution_count": 1,
   "metadata": {},
   "outputs": [],
   "source": [
    "# import kaggle\n",
    "# from kaggle.api.kaggle_api_extended import KaggleApi\n",
    "# api = KaggleApi()\n",
    "# api.authenticate()\n",
    "# api.model_list_cli()"
   ]
  },
  {
   "cell_type": "code",
   "execution_count": null,
   "metadata": {},
   "outputs": [
    {
     "name": "stdout",
     "output_type": "stream",
     "text": [
      "Kaggle API 1.6.14\n"
     ]
    }
   ],
   "source": [
    "# kaggle version\n",
    "!kaggle --version"
   ]
  },
  {
   "cell_type": "code",
   "execution_count": null,
   "metadata": {},
   "outputs": [
    {
     "name": "stdout",
     "output_type": "stream",
     "text": [
      "ref                          title                                         size  lastUpdated          downloadCount  voteCount  usabilityRating  \n",
      "---------------------------  --------------------------------------------  ----  -------------------  -------------  ---------  ---------------  \n",
      "olistbr/brazilian-ecommerce  Brazilian E-Commerce Public Dataset by Olist  43MB  2021-10-01 19:08:27         249064       3150  1.0              \n"
     ]
    }
   ],
   "source": [
    "# list available datasets and search\n",
    "!kaggle datasets list -s olistbr/brazilian-ecommerce"
   ]
  },
  {
   "cell_type": "code",
   "execution_count": 2,
   "metadata": {},
   "outputs": [],
   "source": [
    "# Donload the zipped file\n",
    "!kaggle datasets download olistbr/brazilian-ecommerce"
   ]
  },
  {
   "cell_type": "code",
   "execution_count": 3,
   "metadata": {},
   "outputs": [],
   "source": [
    "# Extract the downloaded files\n",
    "from zipfile import ZipFile\n",
    "import os \n",
    "print(f\"Before extracting: {os.listdir()}\")\n",
    "file = 'brazilian-ecommerce.zip'\n",
    "with ZipFile(file, 'r') as zip:\n",
    "   zip.extractall()\n",
    "print(\"File successfully extracted\")\n",
    "print(f\"After extracting: {os.listdir()}\")"
   ]
  },
  {
   "cell_type": "code",
   "execution_count": 4,
   "metadata": {},
   "outputs": [],
   "source": [
    "import glob\n",
    "\n",
    "# Get Path for all files ending with .csv\n",
    "path = glob.glob('C://Users/spectre/Documents/OpenClassrooms_AI/P5_Philip_O/Segment-Customer-Base/*.csv')"
   ]
  },
  {
   "cell_type": "code",
   "execution_count": 5,
   "metadata": {},
   "outputs": [],
   "source": [
    "# Read the files\n",
    "from pathlib import Path\n",
    "\n",
    "for p in Path('.').glob('*.csv'):\n",
    "    with p.open() as f:\n",
    "        print(f\"{p.name}:\\n{f.read()}\\n\")"
   ]
  },
  {
   "cell_type": "code",
   "execution_count": 6,
   "metadata": {},
   "outputs": [],
   "source": [
    "# file_path = Path('..//olist_geolocation_data.csv')\n",
    "# olist_geolocation_data = pd.read_csv(file_path)"
   ]
  },
  {
   "cell_type": "code",
   "execution_count": null,
   "metadata": {},
   "outputs": [],
   "source": []
  }
 ],
 "metadata": {
  "kernelspec": {
   "display_name": "OpenClass",
   "language": "python",
   "name": "python3"
  },
  "language_info": {
   "codemirror_mode": {
    "name": "ipython",
    "version": 3
   },
   "file_extension": ".py",
   "mimetype": "text/x-python",
   "name": "python",
   "nbconvert_exporter": "python",
   "pygments_lexer": "ipython3",
   "version": "3.10.13"
  }
 },
 "nbformat": 4,
 "nbformat_minor": 2
}
